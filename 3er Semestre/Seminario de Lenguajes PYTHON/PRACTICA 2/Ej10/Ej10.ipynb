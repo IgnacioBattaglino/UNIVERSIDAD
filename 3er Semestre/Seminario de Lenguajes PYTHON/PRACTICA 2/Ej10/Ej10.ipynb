{
 "cells": [
  {
   "cell_type": "markdown",
   "metadata": {},
   "source": [
    "## Explicacion del ejercicio 10:"
   ]
  },
  {
   "cell_type": "markdown",
   "metadata": {},
   "source": [
    "### Datos provistos:"
   ]
  },
  {
   "cell_type": "code",
   "execution_count": 2,
   "metadata": {},
   "outputs": [],
   "source": [
    "names = \"\"\" Agustin, Yanina, Andrés, Ariadna, Bautista, CAROLINA,\n",
    "CESAR, David, Diego, Dolores, DYLAN, ELIANA, Emanuel, Fabián, Noelia,\n",
    "Francisca, FEDERICO, Fernanda, GONZALO, Nancy \"\"\"\n",
    "\n",
    "goals = [0, 10, 4, 0, 5, 14, 0, 0, 7, 2, 1, 1, 1, 5, 6, 1, 1, 2, 0, 11]\n",
    "\n",
    "goals_avoided = [0, 2, 0, 0, 5, 2, 0, 0, 1, 2, 0, 5, 5, 0, 1, 0, 2, 3, 0, 0]\n",
    "\n",
    "assists = [0, 5, 1, 0, 5, 2, 0, 0, 1, 2, 1, 5, 5, 0, 1, 0, 2, 3, 1,0]\n"
   ]
  },
  {
   "cell_type": "markdown",
   "metadata": {},
   "source": [
    "###  1. Generar una estructura con todas las estadísticas asociadas a cada jugador o jugadora"
   ]
  },
  {
   "cell_type": "markdown",
   "metadata": {},
   "source": [
    "El modulo que cree para este inciso utiliza la función map para transformar el string names en una tupla que contenga cada nombre por separado. Para eso, elimine todos los espacios en blanco y saltos de linea alrededor de cada nombre mediante el uso de una función lambda que aplica strip() a cada elemento de la lista resultante después de dividir la cadena names por comas con split().\n",
    "\n",
    "Después, utilizamos la función zip para combinar todas las listas de datos en una sola tupla de tuplas llamada combined_data, la cual utilicé nuevamente con map y lambda para crear el diccionario players_info con todas las estadisticas de cada jugador."
   ]
  },
  {
   "cell_type": "code",
   "execution_count": 6,
   "metadata": {},
   "outputs": [
    {
     "name": "stdout",
     "output_type": "stream",
     "text": [
      "{'Agustin': {'Goles': 0, 'Goles evitados': 0, 'Asistencias': 0}, 'Yanina': {'Goles': 10, 'Goles evitados': 2, 'Asistencias': 5}, 'Andrés': {'Goles': 4, 'Goles evitados': 0, 'Asistencias': 1}, 'Ariadna': {'Goles': 0, 'Goles evitados': 0, 'Asistencias': 0}, 'Bautista': {'Goles': 5, 'Goles evitados': 5, 'Asistencias': 5}, 'CAROLINA': {'Goles': 14, 'Goles evitados': 2, 'Asistencias': 2}, 'CESAR': {'Goles': 0, 'Goles evitados': 0, 'Asistencias': 0}, 'David': {'Goles': 0, 'Goles evitados': 0, 'Asistencias': 0}, 'Diego': {'Goles': 7, 'Goles evitados': 1, 'Asistencias': 1}, 'Dolores': {'Goles': 2, 'Goles evitados': 2, 'Asistencias': 2}, 'DYLAN': {'Goles': 1, 'Goles evitados': 0, 'Asistencias': 1}, 'ELIANA': {'Goles': 1, 'Goles evitados': 5, 'Asistencias': 5}, 'Emanuel': {'Goles': 1, 'Goles evitados': 5, 'Asistencias': 5}, 'Fabián': {'Goles': 5, 'Goles evitados': 0, 'Asistencias': 0}, 'Noelia': {'Goles': 6, 'Goles evitados': 1, 'Asistencias': 1}, 'Francisca': {'Goles': 1, 'Goles evitados': 0, 'Asistencias': 0}, 'FEDERICO': {'Goles': 1, 'Goles evitados': 2, 'Asistencias': 2}, 'Fernanda': {'Goles': 2, 'Goles evitados': 3, 'Asistencias': 3}, 'GONZALO': {'Goles': 0, 'Goles evitados': 0, 'Asistencias': 1}, 'Nancy': {'Goles': 11, 'Goles evitados': 0, 'Asistencias': 0}}\n"
     ]
    }
   ],
   "source": [
    "def generate_structure (names:str, goals:tuple, goals_avoided:tuple, assists:tuple):\n",
    "\n",
    "  names= tuple(map(lambda name:  name.strip() , names.split(',')))\n",
    "  combined_data = tuple(zip(names, goals, goals_avoided, assists))\n",
    "  players_info = dict(map(lambda data: (data[0], {'Goles': data[1], 'Goles evitados': data[2], 'Asistencias': data[3]}), combined_data))\n",
    "\n",
    "  return players_info\n",
    "\n",
    "players_info=generate_structure (names,goals,goals_avoided,assists)\n",
    "print (players_info)"
   ]
  },
  {
   "cell_type": "markdown",
   "metadata": {},
   "source": [
    "###  2. Conocer el nombre y la cantidad de goles del goleador o goleadora."
   ]
  },
  {
   "cell_type": "markdown",
   "metadata": {},
   "source": [
    "###### Para este modulo utilicé la funcion max agregandole el parametro key para que me devuelva el valor maximo de los goles y no de cualquier otro dato en el diccionario. Luego asigne el nombre del goleador y el numero de goles a dos variables para que las retorne y poder imprimirlas."
   ]
  },
  {
   "cell_type": "code",
   "execution_count": 5,
   "metadata": {},
   "outputs": [
    {
     "name": "stdout",
     "output_type": "stream",
     "text": [
      "El/la goleador/a fue CAROLINA con 14 goles\n"
     ]
    }
   ],
   "source": [
    "def getgoleador (structure:dict):\n",
    "\n",
    "  maxgoleador= max(structure.items(), key= lambda elem: elem[1]['Goles'])\n",
    "  goleador= maxgoleador[0] \n",
    "  maxgoles= maxgoleador[1]['Goles']\n",
    "  \n",
    "  return goleador, maxgoles \n",
    "\n",
    "\n",
    "goleador=getgoleador(players_info)\n",
    "print (f\"El/la goleador/a fue {goleador[0]} con {goleador[1]} goles\")"
   ]
  }
 ],
 "metadata": {
  "kernelspec": {
   "display_name": "Python 3",
   "language": "python",
   "name": "python3"
  },
  "language_info": {
   "codemirror_mode": {
    "name": "ipython",
    "version": 3
   },
   "file_extension": ".py",
   "mimetype": "text/x-python",
   "name": "python",
   "nbconvert_exporter": "python",
   "pygments_lexer": "ipython3",
   "version": "3.11.7"
  }
 },
 "nbformat": 4,
 "nbformat_minor": 2
}
